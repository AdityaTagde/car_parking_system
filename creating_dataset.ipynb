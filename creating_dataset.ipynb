{
 "cells": [
  {
   "cell_type": "code",
   "execution_count": 1,
   "id": "c9eee371",
   "metadata": {},
   "outputs": [
    {
     "name": "stdout",
     "output_type": "stream",
     "text": [
      "✅ Cropping finished! Check dataset/temp/ for slot images.\n"
     ]
    }
   ],
   "source": [
    "import cv2\n",
    "import pickle\n",
    "import os\n",
    "\n",
    "# Load saved rectangles\n",
    "with open(\"CarParkPos\", \"rb\") as f:\n",
    "    rectangles = pickle.load(f)\n",
    "\n",
    "# Create dataset folders\n",
    "os.makedirs(\"dataset/temp\", exist_ok=True)\n",
    "\n",
    "cap = cv2.VideoCapture(\"carPark.mp4\")\n",
    "frame_count = 0\n",
    "\n",
    "while True:\n",
    "    success, frame = cap.read()\n",
    "    if not success:\n",
    "        break\n",
    "\n",
    "    # Sample every 30th frame (to avoid too many duplicates)\n",
    "    # condition satisfy for only 0 and 1 \n",
    "    if frame_count % 30 == 0:\n",
    "        for i, (x1, y1, x2, y2) in enumerate(rectangles):\n",
    "            # ✅ Fix co-ordinate order\n",
    "            x1, x2 = sorted([x1, x2])\n",
    "            y1, y2 = sorted([y1, y2])\n",
    "\n",
    "            slot = frame[y1:y2, x1:x2]\n",
    "\n",
    "            # ✅ Only save if crop is valid\n",
    "            if slot.size > 0:\n",
    "                cv2.imwrite(f\"dataset/temp/slot_{i}_{frame_count}.jpg\", slot)\n",
    "\n",
    "    frame_count += 1\n",
    "\n",
    "cap.release()\n",
    "print(\"✅ Cropping finished! Check dataset/temp/ for slot images.\")\n"
   ]
  },
  {
   "cell_type": "code",
   "execution_count": 1,
   "id": "711cf936",
   "metadata": {},
   "outputs": [
    {
     "name": "stdout",
     "output_type": "stream",
     "text": [
      "📹 Total frames: 679\n",
      "🎞️ FPS: 24.0\n",
      "⏱️ Duration (seconds): 28.291666666666668\n"
     ]
    }
   ],
   "source": [
    "import cv2\n",
    "\n",
    "cap = cv2.VideoCapture(\"carPark.mp4\")\n",
    "total_frames = int(cap.get(cv2.CAP_PROP_FRAME_COUNT))\n",
    "fps = cap.get(cv2.CAP_PROP_FPS)\n",
    "\n",
    "print(\"📹 Total frames:\", total_frames)\n",
    "print(\"🎞️ FPS:\", fps)\n",
    "print(\"⏱️ Duration (seconds):\", total_frames / fps)\n",
    "\n",
    "cap.release()\n"
   ]
  },
  {
   "cell_type": "code",
   "execution_count": null,
   "id": "425c8105",
   "metadata": {},
   "outputs": [],
   "source": []
  }
 ],
 "metadata": {
  "kernelspec": {
   "display_name": "tf1",
   "language": "python",
   "name": "python3"
  },
  "language_info": {
   "codemirror_mode": {
    "name": "ipython",
    "version": 3
   },
   "file_extension": ".py",
   "mimetype": "text/x-python",
   "name": "python",
   "nbconvert_exporter": "python",
   "pygments_lexer": "ipython3",
   "version": "3.8.20"
  }
 },
 "nbformat": 4,
 "nbformat_minor": 5
}
