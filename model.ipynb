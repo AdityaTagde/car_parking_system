{
 "cells": [
  {
   "cell_type": "code",
   "execution_count": 1,
   "id": "400273e3",
   "metadata": {},
   "outputs": [],
   "source": [
    "import tensorflow as tf\n",
    "from tensorflow.keras.models import Sequential\n",
    "from tensorflow.keras.layers import Conv2D, MaxPooling2D, Flatten, Dense, Dropout"
   ]
  },
  {
   "cell_type": "code",
   "execution_count": 2,
   "id": "f9de51a1",
   "metadata": {},
   "outputs": [],
   "source": [
    "# Image Size\n",
    "img_size = (50, 100) #(height, width)\n",
    "batch_size = 32\n"
   ]
  },
  {
   "cell_type": "code",
   "execution_count": 3,
   "id": "deab8d95",
   "metadata": {},
   "outputs": [
    {
     "name": "stdout",
     "output_type": "stream",
     "text": [
      "Found 754 files belonging to 2 classes.\n",
      "Using 604 files for training.\n"
     ]
    }
   ],
   "source": [
    "train_ds = tf.keras.preprocessing.image_dataset_from_directory(\n",
    "    'dataset',\n",
    "    validation_split=0.2,\n",
    "    subset = 'training',\n",
    "    seed = 42,\n",
    "    image_size = img_size,\n",
    "    batch_size = batch_size\n",
    "    \n",
    ")"
   ]
  },
  {
   "cell_type": "code",
   "execution_count": 4,
   "id": "b9e46525",
   "metadata": {},
   "outputs": [
    {
     "name": "stdout",
     "output_type": "stream",
     "text": [
      "Found 754 files belonging to 2 classes.\n",
      "Using 150 files for validation.\n"
     ]
    }
   ],
   "source": [
    "val_ds = tf.keras.preprocessing.image_dataset_from_directory(\n",
    "    'dataset',\n",
    "    validation_split = 0.2,\n",
    "    subset = 'validation',\n",
    "    seed = 42,\n",
    "    image_size = img_size,\n",
    "    batch_size = batch_size\n",
    ")"
   ]
  },
  {
   "cell_type": "code",
   "execution_count": 5,
   "id": "e18668e6",
   "metadata": {},
   "outputs": [],
   "source": [
    "# Optimize the dataset\n",
    "AUTOTUNE = tf.data.AUTOTUNE\n",
    "\n",
    "train_ds = train_ds.cache().shuffle(1000).prefetch(buffer_size=AUTOTUNE)\n",
    "val_ds = val_ds.cache().prefetch(buffer_size=AUTOTUNE)"
   ]
  },
  {
   "cell_type": "code",
   "execution_count": 6,
   "id": "53c92805",
   "metadata": {},
   "outputs": [
    {
     "name": "stdout",
     "output_type": "stream",
     "text": [
      "Model: \"sequential\"\n",
      "_________________________________________________________________\n",
      " Layer (type)                Output Shape              Param #   \n",
      "=================================================================\n",
      " conv2d (Conv2D)             (None, 48, 98, 32)        896       \n",
      "                                                                 \n",
      " max_pooling2d (MaxPooling2D  (None, 24, 49, 32)       0         \n",
      " )                                                               \n",
      "                                                                 \n",
      " conv2d_1 (Conv2D)           (None, 22, 47, 64)        18496     \n",
      "                                                                 \n",
      " max_pooling2d_1 (MaxPooling  (None, 11, 23, 64)       0         \n",
      " 2D)                                                             \n",
      "                                                                 \n",
      " flatten (Flatten)           (None, 16192)             0         \n",
      "                                                                 \n",
      " dense (Dense)               (None, 128)               2072704   \n",
      "                                                                 \n",
      " dropout (Dropout)           (None, 128)               0         \n",
      "                                                                 \n",
      " dense_1 (Dense)             (None, 1)                 129       \n",
      "                                                                 \n",
      "=================================================================\n",
      "Total params: 2,092,225\n",
      "Trainable params: 2,092,225\n",
      "Non-trainable params: 0\n",
      "_________________________________________________________________\n"
     ]
    }
   ],
   "source": [
    "from tensorflow.keras import layers, models\n",
    "\n",
    "model2 = models.Sequential([\n",
    "    layers.Conv2D(32, (3,3), activation=\"relu\", input_shape=(50, 100, 3)),\n",
    "    layers.MaxPooling2D(2,2),\n",
    "\n",
    "    layers.Conv2D(64, (3,3), activation=\"relu\"),\n",
    "    layers.MaxPooling2D(2,2),\n",
    "\n",
    "    layers.Flatten(),\n",
    "    layers.Dense(128, activation=\"relu\"),\n",
    "    layers.Dropout(0.5),\n",
    "    layers.Dense(1, activation=\"sigmoid\")   # binary classification\n",
    "])\n",
    "\n",
    "model2.compile(optimizer=\"adam\",\n",
    "              loss=\"binary_crossentropy\",\n",
    "              metrics=[\"accuracy\"])\n",
    "\n",
    "model2.summary()\n"
   ]
  },
  {
   "cell_type": "code",
   "execution_count": 7,
   "id": "965dbf0e",
   "metadata": {},
   "outputs": [
    {
     "name": "stdout",
     "output_type": "stream",
     "text": [
      "Epoch 1/10\n",
      "19/19 [==============================] - 5s 28ms/step - loss: 6.4800 - accuracy: 0.8361 - val_loss: 2.9721e-05 - val_accuracy: 1.0000\n",
      "Epoch 2/10\n",
      "19/19 [==============================] - 0s 9ms/step - loss: 0.1930 - accuracy: 0.9901 - val_loss: 1.6327e-12 - val_accuracy: 1.0000\n",
      "Epoch 3/10\n",
      "19/19 [==============================] - 0s 9ms/step - loss: 4.6086e-05 - accuracy: 1.0000 - val_loss: 1.8967e-10 - val_accuracy: 1.0000\n",
      "Epoch 4/10\n",
      "19/19 [==============================] - 0s 8ms/step - loss: 0.1480 - accuracy: 0.9901 - val_loss: 6.2012e-15 - val_accuracy: 1.0000\n",
      "Epoch 5/10\n",
      "19/19 [==============================] - 0s 8ms/step - loss: 0.2170 - accuracy: 0.9901 - val_loss: 2.6975e-10 - val_accuracy: 1.0000\n",
      "Epoch 6/10\n",
      "19/19 [==============================] - 0s 8ms/step - loss: 0.1830 - accuracy: 0.9950 - val_loss: 3.1309e-14 - val_accuracy: 1.0000\n",
      "Epoch 7/10\n",
      "19/19 [==============================] - 0s 8ms/step - loss: 0.0164 - accuracy: 0.9950 - val_loss: 4.9475e-09 - val_accuracy: 1.0000\n",
      "Epoch 8/10\n",
      "19/19 [==============================] - 0s 8ms/step - loss: 0.0529 - accuracy: 0.9934 - val_loss: 3.7016e-04 - val_accuracy: 1.0000\n",
      "Epoch 9/10\n",
      "19/19 [==============================] - 0s 8ms/step - loss: 0.0565 - accuracy: 0.9967 - val_loss: 1.9404e-05 - val_accuracy: 1.0000\n",
      "Epoch 10/10\n",
      "19/19 [==============================] - 0s 8ms/step - loss: 0.0544 - accuracy: 0.9983 - val_loss: 3.6496e-04 - val_accuracy: 1.0000\n"
     ]
    }
   ],
   "source": [
    "history = model2.fit(\n",
    "    train_ds,\n",
    "    validation_data=val_ds,\n",
    "    epochs=10\n",
    ")\n"
   ]
  },
  {
   "cell_type": "code",
   "execution_count": 8,
   "id": "aabe3d48",
   "metadata": {},
   "outputs": [
    {
     "data": {
      "image/png": "[encoded data removed]",
      "text/plain": [
       "<Figure size 640x480 with 1 Axes>"
      ]
     },
     "metadata": {},
     "output_type": "display_data"
    },
    {
     "data": {
      "image/png": "[encoded data removed]",
      "text/plain": [
       "<Figure size 640x480 with 1 Axes>"
      ]
     },
     "metadata": {},
     "output_type": "display_data"
    }
   ],
   "source": [
    "import matplotlib.pyplot as plt\n",
    "\n",
    "plt.plot(history.history[\"accuracy\"], label=\"train acc\")\n",
    "plt.plot(history.history[\"val_accuracy\"], label=\"val acc\")\n",
    "plt.xlabel(\"Epochs\")\n",
    "plt.ylabel(\"Accuracy\")\n",
    "plt.legend()\n",
    "plt.show()\n",
    "\n",
    "plt.plot(history.history[\"loss\"], label=\"train loss\")\n",
    "plt.plot(history.history[\"val_loss\"], label=\"val loss\")\n",
    "plt.xlabel(\"Epochs\")\n",
    "plt.ylabel(\"Loss\")\n",
    "plt.legend()\n",
    "plt.show()"
   ]
  },
  {
   "cell_type": "code",
   "execution_count": 9,
   "id": "0d44f454",
   "metadata": {},
   "outputs": [],
   "source": [
    "model2.save(\"car_parking_model.h5\")"
   ]
  },
  {
   "cell_type": "code",
   "execution_count": null,
   "id": "fe2be21a",
   "metadata": {},
   "outputs": [],
   "source": []
  }
 ],
 "metadata": {
  "kernelspec": {
   "display_name": "tf",
   "language": "python",
   "name": "python3"
  },
  "language_info": {
   "codemirror_mode": {
    "name": "ipython",
    "version": 3
   },
   "file_extension": ".py",
   "mimetype": "text/x-python",
   "name": "python",
   "nbconvert_exporter": "python",
   "pygments_lexer": "ipython3",
   "version": "3.8.20"
  }
 },
 "nbformat": 4,
 "nbformat_minor": 5
}
